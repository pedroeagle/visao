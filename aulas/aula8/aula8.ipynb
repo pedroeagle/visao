{
 "cells": [
  {
   "cell_type": "code",
   "execution_count": 4,
   "metadata": {},
   "outputs": [
    {
     "name": "stdout",
     "output_type": "stream",
     "text": [
      "['/home/pedroigor/visao/visao/aula8/Buildings2.jpg', '/home/pedroigor/visao/visao/aula8/Mountains52.jpg', '/home/pedroigor/visao/visao/aula8/Horses15.jpg', '/home/pedroigor/visao/visao/aula8/Mountains54.jpg', '/home/pedroigor/visao/visao/aula8/Flowers4.jpg', '/home/pedroigor/visao/visao/aula8/Mountains53.jpg', '/home/pedroigor/visao/visao/aula8/Beach2.jpg', '/home/pedroigor/visao/visao/aula8/Horses14.jpg', '/home/pedroigor/visao/visao/aula8/Beach3.jpg', '/home/pedroigor/visao/visao/aula8/Beach1.jpg', '/home/pedroigor/visao/visao/aula8/Buildings1.jpg', '/home/pedroigor/visao/visao/aula8/Buildings3.jpg', '/home/pedroigor/visao/visao/aula8/Buses3.jpg', '/home/pedroigor/visao/visao/aula8/Buses9.jpg', '/home/pedroigor/visao/visao/aula8/Buses10.jpg', '/home/pedroigor/visao/visao/aula8/Flowers2.jpg', '/home/pedroigor/visao/visao/aula8/Flowers1.jpg', '/home/pedroigor/visao/visao/aula8/Horses16.jpg']\n"
     ]
    }
   ],
   "source": [
    "import os\n",
    "files_path = [os.path.abspath(x) for x in os.listdir('./') if x.endswith('.jpg')]\n",
    "print(files_path)"
   ]
  },
  {
   "cell_type": "code",
   "execution_count": 5,
   "metadata": {},
   "outputs": [
    {
     "ename": "SyntaxError",
     "evalue": "invalid syntax (<ipython-input-5-6d0bbaa8d3b1>, line 2)",
     "output_type": "error",
     "traceback": [
      "\u001b[0;36m  File \u001b[0;32m\"<ipython-input-5-6d0bbaa8d3b1>\"\u001b[0;36m, line \u001b[0;32m2\u001b[0m\n\u001b[0;31m    print(arquivo)''\u001b[0m\n\u001b[0m                   ^\u001b[0m\n\u001b[0;31mSyntaxError\u001b[0m\u001b[0;31m:\u001b[0m invalid syntax\n"
     ]
    }
   ],
   "source": [
    "diretorio, arquivo = path, filename = os.path.split(files_path[0])\n",
    "print(arquivo)''"
   ]
  },
  {
   "cell_type": "code",
   "execution_count": 6,
   "metadata": {},
   "outputs": [
    {
     "name": "stdout",
     "output_type": "stream",
     "text": [
      "Buildings2.jpg\n",
      "Mountains52.jpg\n",
      "Horses15.jpg\n",
      "Mountains54.jpg\n",
      "Flowers4.jpg\n",
      "Mountains53.jpg\n",
      "Beach2.jpg\n",
      "Horses14.jpg\n",
      "Beach3.jpg\n",
      "Beach1.jpg\n",
      "Buildings1.jpg\n",
      "Buildings3.jpg\n",
      "Buses3.jpg\n",
      "Buses9.jpg\n",
      "Buses10.jpg\n",
      "Flowers2.jpg\n",
      "Flowers1.jpg\n",
      "Horses16.jpg\n"
     ]
    }
   ],
   "source": [
    "import cv2\n",
    "import numpy as np\n",
    "import matplotlib.pyplot\n",
    "\n",
    "for i in files_path:\n",
    "    diretorio, arquivo = path, filename = os.path.split(i)\n",
    "    print(arquivo)\n",
    "    imagem = cv2.imread(arquivo)\n",
    "    a = arquivo.split('.')\n",
    "    imagemEspelhada = imagem[::-1,:,:]\n",
    "    cv2.imwrite(a[0]+'inv.jpg', imagemEspelhada)\n",
    "            \n",
    "#plt.imshow(imagem)\n",
    "#plt.show()\n",
    "#plt.imshow(imagemInvertida)\n"
   ]
  },
  {
   "cell_type": "code",
   "execution_count": 18,
   "metadata": {},
   "outputs": [
    {
     "ename": "TypeError",
     "evalue": "Invalid dimensions for image data",
     "output_type": "error",
     "traceback": [
      "\u001b[0;31m---------------------------------------------------------------------------\u001b[0m",
      "\u001b[0;31mTypeError\u001b[0m                                 Traceback (most recent call last)",
      "\u001b[0;32m<ipython-input-18-8e557e87f8a5>\u001b[0m in \u001b[0;36m<module>\u001b[0;34m\u001b[0m\n\u001b[1;32m     79\u001b[0m \u001b[0mimg_texture\u001b[0m \u001b[0;34m=\u001b[0m \u001b[0mlbp\u001b[0m\u001b[0;34m(\u001b[0m\u001b[0mimg\u001b[0m\u001b[0;34m)\u001b[0m\u001b[0;34m\u001b[0m\u001b[0;34m\u001b[0m\u001b[0m\n\u001b[1;32m     80\u001b[0m \u001b[0mhist_consulta\u001b[0m \u001b[0;34m=\u001b[0m \u001b[0mhistograma\u001b[0m\u001b[0;34m(\u001b[0m\u001b[0mimg\u001b[0m\u001b[0;34m)\u001b[0m\u001b[0;34m\u001b[0m\u001b[0;34m\u001b[0m\u001b[0m\n\u001b[0;32m---> 81\u001b[0;31m \u001b[0mplt\u001b[0m\u001b[0;34m.\u001b[0m\u001b[0mimshow\u001b[0m\u001b[0;34m(\u001b[0m\u001b[0mimg_texture\u001b[0m\u001b[0;34m)\u001b[0m\u001b[0;34m\u001b[0m\u001b[0;34m\u001b[0m\u001b[0m\n\u001b[0m\u001b[1;32m     82\u001b[0m \u001b[0md\u001b[0m \u001b[0;34m=\u001b[0m \u001b[0;34m[\u001b[0m\u001b[0;34m]\u001b[0m\u001b[0;34m\u001b[0m\u001b[0;34m\u001b[0m\u001b[0m\n\u001b[1;32m     83\u001b[0m \u001b[0;32mfor\u001b[0m \u001b[0mi\u001b[0m \u001b[0;32min\u001b[0m \u001b[0mfiles_path\u001b[0m\u001b[0;34m:\u001b[0m\u001b[0;34m\u001b[0m\u001b[0;34m\u001b[0m\u001b[0m\n",
      "\u001b[0;32m~/visao/lib/python3.7/site-packages/matplotlib/pyplot.py\u001b[0m in \u001b[0;36mimshow\u001b[0;34m(X, cmap, norm, aspect, interpolation, alpha, vmin, vmax, origin, extent, shape, filternorm, filterrad, imlim, resample, url, data, **kwargs)\u001b[0m\n\u001b[1;32m   2699\u001b[0m         \u001b[0mfilternorm\u001b[0m\u001b[0;34m=\u001b[0m\u001b[0mfilternorm\u001b[0m\u001b[0;34m,\u001b[0m \u001b[0mfilterrad\u001b[0m\u001b[0;34m=\u001b[0m\u001b[0mfilterrad\u001b[0m\u001b[0;34m,\u001b[0m \u001b[0mimlim\u001b[0m\u001b[0;34m=\u001b[0m\u001b[0mimlim\u001b[0m\u001b[0;34m,\u001b[0m\u001b[0;34m\u001b[0m\u001b[0;34m\u001b[0m\u001b[0m\n\u001b[1;32m   2700\u001b[0m         resample=resample, url=url, **({\"data\": data} if data is not\n\u001b[0;32m-> 2701\u001b[0;31m         None else {}), **kwargs)\n\u001b[0m\u001b[1;32m   2702\u001b[0m     \u001b[0msci\u001b[0m\u001b[0;34m(\u001b[0m\u001b[0m__ret\u001b[0m\u001b[0;34m)\u001b[0m\u001b[0;34m\u001b[0m\u001b[0;34m\u001b[0m\u001b[0m\n\u001b[1;32m   2703\u001b[0m     \u001b[0;32mreturn\u001b[0m \u001b[0m__ret\u001b[0m\u001b[0;34m\u001b[0m\u001b[0;34m\u001b[0m\u001b[0m\n",
      "\u001b[0;32m~/visao/lib/python3.7/site-packages/matplotlib/__init__.py\u001b[0m in \u001b[0;36minner\u001b[0;34m(ax, data, *args, **kwargs)\u001b[0m\n\u001b[1;32m   1808\u001b[0m                         \u001b[0;34m\"the Matplotlib list!)\"\u001b[0m \u001b[0;34m%\u001b[0m \u001b[0;34m(\u001b[0m\u001b[0mlabel_namer\u001b[0m\u001b[0;34m,\u001b[0m \u001b[0mfunc\u001b[0m\u001b[0;34m.\u001b[0m\u001b[0m__name__\u001b[0m\u001b[0;34m)\u001b[0m\u001b[0;34m,\u001b[0m\u001b[0;34m\u001b[0m\u001b[0;34m\u001b[0m\u001b[0m\n\u001b[1;32m   1809\u001b[0m                         RuntimeWarning, stacklevel=2)\n\u001b[0;32m-> 1810\u001b[0;31m             \u001b[0;32mreturn\u001b[0m \u001b[0mfunc\u001b[0m\u001b[0;34m(\u001b[0m\u001b[0max\u001b[0m\u001b[0;34m,\u001b[0m \u001b[0;34m*\u001b[0m\u001b[0margs\u001b[0m\u001b[0;34m,\u001b[0m \u001b[0;34m**\u001b[0m\u001b[0mkwargs\u001b[0m\u001b[0;34m)\u001b[0m\u001b[0;34m\u001b[0m\u001b[0;34m\u001b[0m\u001b[0m\n\u001b[0m\u001b[1;32m   1811\u001b[0m \u001b[0;34m\u001b[0m\u001b[0m\n\u001b[1;32m   1812\u001b[0m         inner.__doc__ = _add_data_doc(inner.__doc__,\n",
      "\u001b[0;32m~/visao/lib/python3.7/site-packages/matplotlib/axes/_axes.py\u001b[0m in \u001b[0;36mimshow\u001b[0;34m(self, X, cmap, norm, aspect, interpolation, alpha, vmin, vmax, origin, extent, shape, filternorm, filterrad, imlim, resample, url, **kwargs)\u001b[0m\n\u001b[1;32m   5492\u001b[0m                               resample=resample, **kwargs)\n\u001b[1;32m   5493\u001b[0m \u001b[0;34m\u001b[0m\u001b[0m\n\u001b[0;32m-> 5494\u001b[0;31m         \u001b[0mim\u001b[0m\u001b[0;34m.\u001b[0m\u001b[0mset_data\u001b[0m\u001b[0;34m(\u001b[0m\u001b[0mX\u001b[0m\u001b[0;34m)\u001b[0m\u001b[0;34m\u001b[0m\u001b[0;34m\u001b[0m\u001b[0m\n\u001b[0m\u001b[1;32m   5495\u001b[0m         \u001b[0mim\u001b[0m\u001b[0;34m.\u001b[0m\u001b[0mset_alpha\u001b[0m\u001b[0;34m(\u001b[0m\u001b[0malpha\u001b[0m\u001b[0;34m)\u001b[0m\u001b[0;34m\u001b[0m\u001b[0;34m\u001b[0m\u001b[0m\n\u001b[1;32m   5496\u001b[0m         \u001b[0;32mif\u001b[0m \u001b[0mim\u001b[0m\u001b[0;34m.\u001b[0m\u001b[0mget_clip_path\u001b[0m\u001b[0;34m(\u001b[0m\u001b[0;34m)\u001b[0m \u001b[0;32mis\u001b[0m \u001b[0;32mNone\u001b[0m\u001b[0;34m:\u001b[0m\u001b[0;34m\u001b[0m\u001b[0;34m\u001b[0m\u001b[0m\n",
      "\u001b[0;32m~/visao/lib/python3.7/site-packages/matplotlib/image.py\u001b[0m in \u001b[0;36mset_data\u001b[0;34m(self, A)\u001b[0m\n\u001b[1;32m    644\u001b[0m         if not (self._A.ndim == 2\n\u001b[1;32m    645\u001b[0m                 or self._A.ndim == 3 and self._A.shape[-1] in [3, 4]):\n\u001b[0;32m--> 646\u001b[0;31m             \u001b[0;32mraise\u001b[0m \u001b[0mTypeError\u001b[0m\u001b[0;34m(\u001b[0m\u001b[0;34m\"Invalid dimensions for image data\"\u001b[0m\u001b[0;34m)\u001b[0m\u001b[0;34m\u001b[0m\u001b[0;34m\u001b[0m\u001b[0m\n\u001b[0m\u001b[1;32m    647\u001b[0m \u001b[0;34m\u001b[0m\u001b[0m\n\u001b[1;32m    648\u001b[0m         \u001b[0;32mif\u001b[0m \u001b[0mself\u001b[0m\u001b[0;34m.\u001b[0m\u001b[0m_A\u001b[0m\u001b[0;34m.\u001b[0m\u001b[0mndim\u001b[0m \u001b[0;34m==\u001b[0m \u001b[0;36m3\u001b[0m\u001b[0;34m:\u001b[0m\u001b[0;34m\u001b[0m\u001b[0;34m\u001b[0m\u001b[0m\n",
      "\u001b[0;31mTypeError\u001b[0m: Invalid dimensions for image data"
     ]
    },
    {
     "data": {
      "image/png": "[encoded data removed]",
      "text/plain": [
       "<Figure size 432x288 with 1 Axes>"
      ]
     },
     "metadata": {
      "needs_background": "light"
     },
     "output_type": "display_data"
    }
   ],
   "source": [
    "import cv2\n",
    "import numpy as np\n",
    "import matplotlib.pyplot as plt\n",
    "import os\n",
    "\n",
    "files_path = [os.path.abspath(x) for x in os.listdir('./') if x.endswith('jpg')]\n",
    "\n",
    "def distancia(a, b):\n",
    "    M = len(a)\n",
    "    soma = 0\n",
    "    for i in range(M):\n",
    "        soma = soma+((a[i]-b[i])**2)\n",
    "    return np.sqrt(soma)\n",
    "\n",
    "def lbp(img):\n",
    "    qtdeLinhas, qtdeColunas = img.shape\n",
    "    img2 = np.zeros((qtdeLinhas, qtdeColunas))\n",
    "    for i in range(1, qtdeLinhas-1):\n",
    "        for j in range(1, qtdeColunas-1):\n",
    "            A = img[i-1, j]\n",
    "            B = img[i-1, j+1]\n",
    "            C = img[i, j+1]\n",
    "            D = img[i+1, j+1]\n",
    "            E = img[i+1, j]\n",
    "            F = img[i+1, j-1]\n",
    "            G = img[i, j-1]\n",
    "            H = img[i-1, j-1]\n",
    "            Centro = img[i,j]\n",
    "            soma = 0\n",
    "            if(A > Centro):\n",
    "                soma = soma + (2**7)\n",
    "            if(B > Centro):\n",
    "                soma = soma + (2**6)\n",
    "            if(C > Centro):\n",
    "                soma = soma + (2**5)\n",
    "            if(D > Centro):\n",
    "                soma = soma + (2**4)\n",
    "            if(E > Centro):\n",
    "                soma = soma + (2**3)              \n",
    "            if(F > Centro):\n",
    "                soma = soma + (2**2)\n",
    "            if(G > Centro):\n",
    "                soma = soma + (2**1)\n",
    "            if(H > Centro):\n",
    "                soma = soma\n",
    "            img2 = soma\n",
    "        return img2\n",
    "\n",
    "def histograma_colorido(img):\n",
    "    WB = np.zeros(256)\n",
    "    WG = np.zeros(256)\n",
    "    WR = np.zeros(256)\n",
    "    qtdeLinhas, qtdeColunas, c = img.shape\n",
    "    B = img[:,:,0]\n",
    "    G = img[:,:,1]\n",
    "    R = img[:,:,2]\n",
    "    for i in range (qtdeLinhas):\n",
    "        for j in range (qtdeColunas):\n",
    "            WB[B[i, j]] = WB[B[i,j]]+1\n",
    "            WG[G[i, j]] = WG[G[i,j]]+1\n",
    "            WR[R[i, j]] = WR[R[i,j]]+1\n",
    "    for i in range(256):\n",
    "        WB[i] = WB[i]/(qtdeLinhas*qtdeColunas)\n",
    "        WG[i] = WG[i]/(qtdeLinhas*qtdeColunas)\n",
    "        WR[i] = WR[i]/(qtdeLinhas*qtdeColunas)\n",
    "    return np.append(np.append(WB, WG), WR)\n",
    "\n",
    "def histograma(img):\n",
    "    W = np.zeros(256)\n",
    "    qtdeLinhas, qtdeColunas = img.shape\n",
    "    for i in range (qtdeLinhas):\n",
    "        for j in range (qtdeColunas):\n",
    "            W[img[i, j]] = W[img[i,j]]+1\n",
    "        for i in range(256):\n",
    "            W[i] = W[i]/(qtdeLinhas*qtdeColunas)\n",
    "    return W\n",
    "\n",
    "img = cv2.imread('Beach3.jpg', 0)\n",
    "img_texture = lbp(img)\n",
    "hist_consulta = histograma(img)\n",
    "plt.imshow(img_texture)\n",
    "d = []\n",
    "for i in files_path:\n",
    "    diretorio, arquivo = path, filename = os.path.split(i)\n",
    "    imagem = cv2.imread(arquivo)\n",
    "    hist = histograma_colorido(imagem)\n",
    "    d.append((distancia(hist_consulta, hist), arquivo))\n",
    "print(sorted(d))"
   ]
  },
  {
   "cell_type": "code",
   "execution_count": 10,
   "metadata": {},
   "outputs": [
    {
     "ename": "AttributeError",
     "evalue": "'NoneType' object has no attribute 'shape'",
     "output_type": "error",
     "traceback": [
      "\u001b[0;31m---------------------------------------------------------------------------\u001b[0m",
      "\u001b[0;31mAttributeError\u001b[0m                            Traceback (most recent call last)",
      "\u001b[0;32m<ipython-input-10-218fb15c3965>\u001b[0m in \u001b[0;36m<module>\u001b[0;34m\u001b[0m\n\u001b[1;32m      5\u001b[0m \u001b[0mimagemOriginal\u001b[0m \u001b[0;34m=\u001b[0m \u001b[0mcv2\u001b[0m\u001b[0;34m.\u001b[0m\u001b[0mimread\u001b[0m\u001b[0;34m(\u001b[0m\u001b[0;34m'lena.png'\u001b[0m\u001b[0;34m,\u001b[0m \u001b[0;36m0\u001b[0m\u001b[0;34m)\u001b[0m\u001b[0;34m\u001b[0m\u001b[0;34m\u001b[0m\u001b[0m\n\u001b[1;32m      6\u001b[0m \u001b[0;34m\u001b[0m\u001b[0m\n\u001b[0;32m----> 7\u001b[0;31m \u001b[0mqtdeLinhas\u001b[0m\u001b[0;34m,\u001b[0m \u001b[0mqtdeColunas\u001b[0m \u001b[0;34m=\u001b[0m \u001b[0mimagemOriginal\u001b[0m\u001b[0;34m.\u001b[0m\u001b[0mshape\u001b[0m\u001b[0;34m\u001b[0m\u001b[0;34m\u001b[0m\u001b[0m\n\u001b[0m\u001b[1;32m      8\u001b[0m \u001b[0;34m\u001b[0m\u001b[0m\n\u001b[1;32m      9\u001b[0m \u001b[0mimagemModificada\u001b[0m \u001b[0;34m=\u001b[0m \u001b[0mnp\u001b[0m\u001b[0;34m.\u001b[0m\u001b[0mzeros\u001b[0m\u001b[0;34m(\u001b[0m\u001b[0;34m(\u001b[0m\u001b[0mqtdeColunas\u001b[0m\u001b[0;34m,\u001b[0m \u001b[0mqtdeLinhas\u001b[0m\u001b[0;34m)\u001b[0m\u001b[0;34m)\u001b[0m\u001b[0;34m\u001b[0m\u001b[0;34m\u001b[0m\u001b[0m\n",
      "\u001b[0;31mAttributeError\u001b[0m: 'NoneType' object has no attribute 'shape'"
     ]
    }
   ],
   "source": [
    "import cv2\n",
    "import numpy as np\n",
    "import matplotlib.pyplot as plt\n",
    "\n",
    "imagemOriginal = cv2.imread('lena.png', 0)\n",
    "\n",
    "qtdeLinhas, qtdeColunas = imagemOriginal.shape\n",
    "\n",
    "imagemModificada = np.zeros((qtdeColunas, qtdeLinhas))\n",
    "\n",
    "for i in range(qtdeLinhas):\n",
    "    for j in range(qtdeColunas):\n",
    "        imagemModificada[j,i] = imagemOriginal[i,j]\n",
    "                \n",
    "plt.gray()               \n",
    "plt.imshow(imagemOriginal)\n",
    "plt.show()          \n",
    "plt.imshow(imagemModificada)"
   ]
  },
  {
   "cell_type": "code",
   "execution_count": null,
   "metadata": {},
   "outputs": [],
   "source": []
  }
 ],
 "metadata": {
  "kernelspec": {
   "display_name": "Python 3",
   "language": "python",
   "name": "python3"
  },
  "language_info": {
   "codemirror_mode": {
    "name": "ipython",
    "version": 3
   },
   "file_extension": ".py",
   "mimetype": "text/x-python",
   "name": "python",
   "nbconvert_exporter": "python",
   "pygments_lexer": "ipython3",
   "version": "3.7.2"
  }
 },
 "nbformat": 4,
 "nbformat_minor": 2
}
